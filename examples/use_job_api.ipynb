{
 "cells": [
  {
   "cell_type": "markdown",
   "metadata": {},
   "source": [
    "## xcube Generator Python Access Library\n",
    "\n",
    "This notebook shows how to generate xcube cube using the xcube-gen web service [xcube-gen.brockmann-consult.de](https://xcube-gen.brockmann-consult.de).\n",
    "Please be aware, this notebook will not run unless you have access to the xcube-gen service as well as a bucket on AWS."
   ]
  },
  {
   "cell_type": "code",
   "execution_count": 1,
   "metadata": {},
   "outputs": [
    {
     "data": {
      "text/plain": [
       "'helge.dzierzon@brockmann-consult.de'"
      ]
     },
     "execution_count": 1,
     "metadata": {},
     "output_type": "execute_result"
    }
   ],
   "source": [
    "from xcube_gen.jobapi import JobApi\n",
    "api = JobApi()\n",
    "api.whoami"
   ]
  },
  {
   "cell_type": "markdown",
   "metadata": {
    "pycharm": {
     "name": "#%% md\n"
    }
   },
   "source": [
    "## Generate a config"
   ]
  },
  {
   "cell_type": "code",
   "execution_count": 3,
   "metadata": {},
   "outputs": [],
   "source": [
    "cfg = {\n",
    "  \"input_configs\": [\n",
    "    {\n",
    "      \"store_id\": \"@sentinelhub\",\n",
    "      \"data_id\": \"S2L2A\",\n",
    "      \"open_params\": {\n",
    "        \"tile_size\": [\n",
    "          1000,\n",
    "          1000\n",
    "        ]\n",
    "      }\n",
    "    }\n",
    "  ],\n",
    "  \"cube_config\": {\n",
    "    \"variable_names\": [\n",
    "      \"B01\",\n",
    "      \"B02\"\n",
    "    ],\n",
    "    \"bbox\": [\n",
    "      7,\n",
    "      53,\n",
    "      9,\n",
    "      55\n",
    "    ],\n",
    "    \"spatial_res\": 0.001,\n",
    "    \"crs\": \"WGS84\",\n",
    "    \"time_range\": [\n",
    "      \"2000-06-20\",\n",
    "      \"2000-06-22\"\n",
    "    ],\n",
    "    \"time_period\": \"1D\"\n",
    "  },\n",
    "  \"output_config\": {\n",
    "    \"store_id\": \"s3\",\n",
    "    \"store_params\": {\n",
    "      \"bucket_name\": \"***\",\n",
    "      \"aws_access_key_id\": \"***\",\n",
    "      \"aws_secret_access_key\": \"***\"\n",
    "    }\n",
    "  }\n",
    "}"
   ]
  },
  {
   "cell_type": "markdown",
   "metadata": {
    "pycharm": {
     "name": "#%% md\n"
    }
   },
   "source": [
    "## Generating an xcube"
   ]
  },
  {
   "cell_type": "code",
   "execution_count": 4,
   "metadata": {},
   "outputs": [
    {
     "data": {
      "text/plain": [
       "{'result': {'job_id': 'xcube-gen-08bc03f4-c995-45d9-ae81-16e90fc03017',\n",
       "  'status': {'active': None,\n",
       "   'completion_time': None,\n",
       "   'conditions': None,\n",
       "   'failed': None,\n",
       "   'start_time': None,\n",
       "   'succeeded': None}},\n",
       " 'status': 'ok'}"
      ]
     },
     "execution_count": 4,
     "metadata": {},
     "output_type": "execute_result"
    }
   ],
   "source": [
    "api.create(cfg=cfg)"
   ]
  },
  {
   "cell_type": "markdown",
   "metadata": {
    "pycharm": {
     "name": "#%% md\n"
    }
   },
   "source": [
    "## Getting the Status of a Generation Job"
   ]
  },
  {
   "cell_type": "code",
   "execution_count": 5,
   "metadata": {
    "collapsed": false,
    "jupyter": {
     "outputs_hidden": false
    },
    "pycharm": {
     "name": "#%%\n"
    }
   },
   "outputs": [
    {
     "data": {
      "text/plain": [
       "{'result': {'job_id': 'xcube-gen-08bc03f4-c995-45d9-ae81-16e90fc03017',\n",
       "  'output': ['Awaiting generator configuration JSON from TTY...',\n",
       "   'Cube generator configuration loaded from TTY.',\n",
       "   'Generating cube - ...',\n",
       "   'Generating cube - 0.0%: Opening input(s) - ...',\n",
       "   'Generating cube - 10.0%: Opening input(s) - 100.0%',\n",
       "   'Generating cube - 10.0%: Opening input(s) - done.',\n",
       "   'Generating cube - 10.0%: Resampling cube(s) - ...',\n",
       "   'Generating cube - 15.0%: Resampling cube(s) - 50.0%',\n",
       "   'Generating cube - 20.0%: Resampling cube(s) - 100.0%',\n",
       "   'Generating cube - 20.0%: Resampling cube(s) - done.',\n",
       "   'Generating cube - 20.0%: Writing output - ...',\n",
       "   'Generating cube - 100.0%: Writing output - 100.0%',\n",
       "   'Generating cube - 100.0%: Writing output - done.',\n",
       "   'Generating cube - done.'],\n",
       "  'status': {'active': 1,\n",
       "   'completion_time': None,\n",
       "   'conditions': None,\n",
       "   'failed': None,\n",
       "   'start_time': 'Thu, 02 Jul 2020 08:48:59 GMT',\n",
       "   'succeeded': None}},\n",
       " 'status': 'ok'}"
      ]
     },
     "execution_count": 5,
     "metadata": {},
     "output_type": "execute_result"
    }
   ],
   "source": [
    "api.status('xcube-gen-08bc03f4-c995-45d9-ae81-16e90fc03017')"
   ]
  },
  {
   "cell_type": "markdown",
   "metadata": {
    "pycharm": {
     "name": "#%% md\n"
    }
   },
   "source": [
    "## Listing my Jobs"
   ]
  },
  {
   "cell_type": "code",
   "execution_count": 6,
   "metadata": {
    "collapsed": false,
    "jupyter": {
     "outputs_hidden": false
    },
    "pycharm": {
     "name": "#%%\n"
    }
   },
   "outputs": [
    {
     "data": {
      "text/plain": [
       "{'result': [{'job_id': 'xcube-gen-08bc03f4-c995-45d9-ae81-16e90fc03017',\n",
       "   'status': {'active': None,\n",
       "    'completion_time': 'Thu, 02 Jul 2020 08:49:13 GMT',\n",
       "    'failed': None,\n",
       "    'start_time': 'Thu, 02 Jul 2020 08:48:59 GMT',\n",
       "    'succeeded': 1}},\n",
       "  {'job_id': 'xcube-gen-2f5793af-e27d-4768-a28e-6e731564eab7',\n",
       "   'status': {'active': None,\n",
       "    'completion_time': None,\n",
       "    'failed': 2,\n",
       "    'start_time': 'Thu, 02 Jul 2020 08:00:53 GMT',\n",
       "    'succeeded': None}},\n",
       "  {'job_id': 'xcube-gen-32bdad43-3f9a-4e4c-9264-3400e63bbe98',\n",
       "   'status': {'active': None,\n",
       "    'completion_time': None,\n",
       "    'failed': 2,\n",
       "    'start_time': 'Thu, 02 Jul 2020 07:58:53 GMT',\n",
       "    'succeeded': None}},\n",
       "  {'job_id': 'xcube-gen-5f5a9a4a-bc6f-4b8b-b7a4-0b15a8e9a6cd',\n",
       "   'status': {'active': None,\n",
       "    'completion_time': None,\n",
       "    'failed': 2,\n",
       "    'start_time': 'Thu, 02 Jul 2020 07:51:10 GMT',\n",
       "    'succeeded': None}},\n",
       "  {'job_id': 'xcube-gen-6cfdf2ec-b0b4-4108-962d-4cb3e43d9e35',\n",
       "   'status': {'active': None,\n",
       "    'completion_time': None,\n",
       "    'failed': 2,\n",
       "    'start_time': 'Thu, 02 Jul 2020 08:04:16 GMT',\n",
       "    'succeeded': None}},\n",
       "  {'job_id': 'xcube-gen-83e61699-9420-4c63-906c-0e88cd925988',\n",
       "   'status': {'active': None,\n",
       "    'completion_time': None,\n",
       "    'failed': 2,\n",
       "    'start_time': 'Thu, 02 Jul 2020 07:52:09 GMT',\n",
       "    'succeeded': None}},\n",
       "  {'job_id': 'xcube-gen-cfeeb353-3a77-4fd2-9ce0-8a54141286d9',\n",
       "   'status': {'active': None,\n",
       "    'completion_time': None,\n",
       "    'failed': 2,\n",
       "    'start_time': 'Thu, 02 Jul 2020 08:35:06 GMT',\n",
       "    'succeeded': None}}],\n",
       " 'status': 'ok'}"
      ]
     },
     "execution_count": 6,
     "metadata": {},
     "output_type": "execute_result"
    }
   ],
   "source": [
    "api.list()"
   ]
  },
  {
   "cell_type": "markdown",
   "metadata": {
    "pycharm": {
     "name": "#%% md\n"
    }
   },
   "source": [
    "## Deleting a job"
   ]
  },
  {
   "cell_type": "code",
   "execution_count": 2,
   "metadata": {
    "collapsed": false,
    "jupyter": {
     "outputs_hidden": false
    },
    "pycharm": {
     "name": "#%%\n"
    }
   },
   "outputs": [
    {
     "data": {
      "text/plain": [
       "{'result': 'Success', 'status': 'ok'}"
      ]
     },
     "execution_count": 2,
     "metadata": {},
     "output_type": "execute_result"
    }
   ],
   "source": [
    "api.delete('xcube-gen-08bc03f4-c995-45d9-ae81-16e90fc03017')"
   ]
  }
 ],
 "metadata": {
  "kernelspec": {
   "display_name": "Python 3",
   "language": "python",
   "name": "python3"
  },
  "language_info": {
   "codemirror_mode": {
    "name": "ipython",
    "version": 3
   },
   "file_extension": ".py",
   "mimetype": "text/x-python",
   "name": "python",
   "nbconvert_exporter": "python",
   "pygments_lexer": "ipython3",
   "version": "3.7.6"
  }
 },
 "nbformat": 4,
 "nbformat_minor": 4
}